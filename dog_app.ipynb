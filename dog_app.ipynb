{
  "nbformat": 4,
  "nbformat_minor": 0,
  "metadata": {
    "anaconda-cloud": {},
    "kernelspec": {
      "display_name": "Python 3",
      "language": "python",
      "name": "python3"
    },
    "language_info": {
      "codemirror_mode": {
        "name": "ipython",
        "version": 3
      },
      "file_extension": ".py",
      "mimetype": "text/x-python",
      "name": "python",
      "nbconvert_exporter": "python",
      "pygments_lexer": "ipython3",
      "version": "3.6.3"
    },
    "colab": {
      "name": "dog_app.ipynb",
      "provenance": []
    },
    "accelerator": "GPU"
  },
  "cells": [
    {
      "cell_type": "markdown",
      "metadata": {
        "id": "XwDrHg7Dwd9W"
      },
      "source": [
        "# Convolutional Neural Networks\n",
        "\n",
        "## Project: Write an Algorithm for a Dog Identification App \n",
        "\n",
        "---\n",
        "\n",
        "**This notebook is inspired by a project of the Machine Learning Engineer Nanodegre program of Udacity.**\n",
        "\n",
        "### Description\n",
        "--- \n",
        "\n",
        "The project consists of building a CNN-based approach to create a dog breed identification app. Additionally, if the input image consists of a human picture the model will suggest the most resembling breed. If something else will be used as input the app will raise an error.\n",
        "\n",
        "### App Blocks\n",
        "--- \n",
        "\n",
        "The final application consists of 3 main blocks. A human detector that classifies if the input image is a human. A dog detector that classifies if the image is a dog. Finally, a model that assign the most resembling breed to the image.\n",
        "\n",
        "\n",
        "### Implementation choices\n",
        "---\n",
        "\n",
        "  * Human detector --> Pretrained PyTorch model ([facenet-pytorch](https://github.com/timesler/facenet-pytorch.git)).\n",
        "  * Dog detector  --> Pre-trained VGG-16 Model trained on [ImageNet](http://www.image-net.org/)\n",
        "  * Breed classifier --> PyTorch custom model\n",
        "\n",
        "### Datasets\n",
        "---\n",
        "  * [dog dataset](https://s3-us-west-1.amazonaws.com/udacity-aind/dog-project/dogImages.zip) that consist in dog images.\n",
        "  * [human dataset](https://s3-us-west-1.amazonaws.com/udacity-aind/dog-project/lfw.zip) that consist in human faces. \n",
        "\n",
        "> **Note: The notebook will automatically download the datasets at runtime.**\n",
        "\n",
        "### Example of the output\n",
        "---\n",
        "![Sample Dog Output](https://github.com/matteoanelli/Dog_breed_classification/blob/master/images/sample_dog_output.png?raw=1)\n",
        "\n",
        "---\n",
        "### Table of content\n",
        "\n",
        "* [Step 0](#step0): Import Datasets\n",
        "* [Step 1](#step1): Detect Humans\n",
        "* [Step 2](#step2): Detect Dogs\n",
        "* [Step 3](#step3): CNN to Classify Dog Breeds (from Scratch)\n",
        "* [Step 4](#step4): CNN to Classify Dog Breeds (using Transfer Learning)\n",
        "* [Step 5](#step5): Application\n",
        "* [Step 6](#step6): Final tests\n"
      ]
    },
    {
      "cell_type": "code",
      "metadata": {
        "colab": {
          "base_uri": "https://localhost:8080/"
        },
        "id": "JhHBf5cywkU3",
        "outputId": "e4a0e7e3-8bab-45c0-d941-2032d5fbec28"
      },
      "source": [
        "!pip install facenet_pytorch"
      ],
      "execution_count": 94,
      "outputs": [
        {
          "output_type": "stream",
          "text": [
            "Requirement already satisfied: facenet_pytorch in /usr/local/lib/python3.7/dist-packages (2.5.2)\n",
            "Requirement already satisfied: requests in /usr/local/lib/python3.7/dist-packages (from facenet_pytorch) (2.23.0)\n",
            "Requirement already satisfied: torchvision in /usr/local/lib/python3.7/dist-packages (from facenet_pytorch) (0.10.0+cu102)\n",
            "Requirement already satisfied: numpy in /usr/local/lib/python3.7/dist-packages (from facenet_pytorch) (1.19.5)\n",
            "Requirement already satisfied: pillow in /usr/local/lib/python3.7/dist-packages (from facenet_pytorch) (7.1.2)\n",
            "Requirement already satisfied: urllib3!=1.25.0,!=1.25.1,<1.26,>=1.21.1 in /usr/local/lib/python3.7/dist-packages (from requests->facenet_pytorch) (1.24.3)\n",
            "Requirement already satisfied: idna<3,>=2.5 in /usr/local/lib/python3.7/dist-packages (from requests->facenet_pytorch) (2.10)\n",
            "Requirement already satisfied: certifi>=2017.4.17 in /usr/local/lib/python3.7/dist-packages (from requests->facenet_pytorch) (2021.5.30)\n",
            "Requirement already satisfied: chardet<4,>=3.0.2 in /usr/local/lib/python3.7/dist-packages (from requests->facenet_pytorch) (3.0.4)\n",
            "Requirement already satisfied: torch==1.9.0 in /usr/local/lib/python3.7/dist-packages (from torchvision->facenet_pytorch) (1.9.0+cu102)\n",
            "Requirement already satisfied: typing-extensions in /usr/local/lib/python3.7/dist-packages (from torch==1.9.0->torchvision->facenet_pytorch) (3.7.4.3)\n"
          ],
          "name": "stdout"
        }
      ]
    },
    {
      "cell_type": "code",
      "metadata": {
        "id": "2jpDY63QwlYL"
      },
      "source": [
        "import torch\n",
        "import numpy as np"
      ],
      "execution_count": 95,
      "outputs": []
    },
    {
      "cell_type": "code",
      "metadata": {
        "colab": {
          "base_uri": "https://localhost:8080/"
        },
        "id": "QaIDXzdJwlbt",
        "outputId": "1ec821e3-24a8-4a04-f6a7-4884943d557c"
      },
      "source": [
        "device = torch.device('cuda:0' if torch.cuda.is_available() else 'cpu')\n",
        "print('Running on device: {}'.format(device))"
      ],
      "execution_count": 96,
      "outputs": [
        {
          "output_type": "stream",
          "text": [
            "Running on device: cuda:0\n"
          ],
          "name": "stdout"
        }
      ]
    },
    {
      "cell_type": "code",
      "metadata": {
        "id": "1X8c9HVlwd9b"
      },
      "source": [
        "# Set to True if we want to skip the training processes. If the model has to be retrained the proper dataset wil\n",
        "skip_training = False"
      ],
      "execution_count": 97,
      "outputs": []
    },
    {
      "cell_type": "markdown",
      "metadata": {
        "id": "Mn07XUXA8jSE"
      },
      "source": [
        "<a id='step0'></a>\n",
        "## Step 0: Import Datasets\n"
      ]
    },
    {
      "cell_type": "code",
      "metadata": {
        "colab": {
          "base_uri": "https://localhost:8080/"
        },
        "id": "76e9smpT9U7c",
        "outputId": "e4d7bbeb-8a86-4eed-d1d6-eebd25db23c2"
      },
      "source": [
        "# Import datasets\n",
        "import os\n",
        "if not os.path.isdir(\"./dogImages/\"):\n",
        "  !wget -q -O tmp.zip https://s3-us-west-1.amazonaws.com/udacity-aind/dog-project/dogImages.zip && unzip tmp.zip && rm -f tmp.zip\n",
        "else:\n",
        "  print(\"DogImages data already downloaded\")\n",
        "\n",
        "if not os.path.isdir(\"./lfw\"):\n",
        "  !wget -q -O tmp.zip https://s3-us-west-1.amazonaws.com/udacity-aind/dog-project/lfw.zip && unzip tmp.zip && rm -f tmp.zip\n",
        "else:\n",
        "  print(\"Human faces data already downloaded\")\n"
      ],
      "execution_count": 98,
      "outputs": [
        {
          "output_type": "stream",
          "text": [
            "DogImages data already downloaded\n",
            "Human faces data already downloaded\n"
          ],
          "name": "stdout"
        }
      ]
    },
    {
      "cell_type": "code",
      "metadata": {
        "colab": {
          "base_uri": "https://localhost:8080/"
        },
        "id": "LIdm00-Ywd9c",
        "outputId": "f86174e0-0cef-4112-8d08-2466dbebf842"
      },
      "source": [
        "from glob import glob\n",
        "\n",
        "# load filenames for human and dog images\n",
        "human_files = np.array(glob(\"./lfw/*/*\"))\n",
        "dog_files = np.array(glob(\"./dogImages/*/*/*\"))\n",
        "\n",
        "# print number of images in each dataset\n",
        "print('There are {} total human images.'.format(len(human_files)))\n",
        "print('There are {} total dog images.'.format(len(dog_files)))"
      ],
      "execution_count": 99,
      "outputs": [
        {
          "output_type": "stream",
          "text": [
            "There are 13233 total human images.\n",
            "There are 8351 total dog images.\n"
          ],
          "name": "stdout"
        }
      ]
    },
    {
      "cell_type": "markdown",
      "metadata": {
        "id": "Confq7Aewd9d"
      },
      "source": [
        "<a id='step1'></a>\n",
        "## Step 1: Detect Humans"
      ]
    },
    {
      "cell_type": "markdown",
      "metadata": {
        "id": "81Nji9RQwd9f"
      },
      "source": [
        "### Write a Human Face Detector"
      ]
    },
    {
      "cell_type": "code",
      "metadata": {
        "id": "8pTl-GIlwd9g"
      },
      "source": [
        "# returns \"True\" if face is detected in image stored at img_path\n",
        "import matplotlib.image as img\n",
        "\n",
        "def face_detector(model, img_path):\n",
        "    \"\"\"\n",
        "        Function that classify if the input image is a human. It does it using \n",
        "        a model tha detect faces.\n",
        "    Args:\n",
        "        model:\n",
        "            Model used to detect the human.\n",
        "        img_path (str):\n",
        "            Path of the image to classify\n",
        "            \n",
        "    Returns:\n",
        "        classification (Bool):\n",
        "            True if the image is a human picture, False otherwise.   \n",
        "\n",
        "    \"\"\"\n",
        "    # Read the image form path\n",
        "    image = img.imread(img_path)\n",
        "\n",
        "    # Detect face\n",
        "    face, prob = model(image, return_prob=True)\n",
        "\n",
        "    return True if face is not None else False\n",
        "      "
      ],
      "execution_count": 100,
      "outputs": []
    },
    {
      "cell_type": "markdown",
      "metadata": {
        "id": "6c9ahfvtwd9g"
      },
      "source": [
        "### Test the Human Face Detector\n",
        "\n"
      ]
    },
    {
      "cell_type": "code",
      "metadata": {
        "colab": {
          "base_uri": "https://localhost:8080/"
        },
        "id": "kZFrB5ebwd9h",
        "outputId": "4ea1bd67-d943-4967-b135-79c9a98e765d"
      },
      "source": [
        "import matplotlib.pyplot as plt\n",
        "from tqdm import tqdm\n",
        "from facenet_pytorch import MTCNN\n",
        "\n",
        "# Initialaize face detector\n",
        "mtcnn = MTCNN(device=device)\n",
        "# Number of first tested images\n",
        "n_test_images = 100\n",
        "\n",
        "human_files_short = human_files[:n_test_images]\n",
        "dog_files_short = dog_files[:n_test_images]\n",
        "\n",
        "print(\"Processing human images\")\n",
        "human = [1 for i in tqdm(range(n_test_images)) if \n",
        "         face_detector(mtcnn, human_files_short[i])]\n",
        "\n",
        "print(\"Processing dog images\")\n",
        "dog = [1 for i in tqdm(range(n_test_images)) if \n",
        "       face_detector(mtcnn, dog_files_short[i])]\n",
        "        \n",
        "print('\\n The percentage of the first {} images in human_files is: {}%'.format(\n",
        "    n_test_images, sum(human)/n_test_images * 100))\n",
        "print('The percentage of the first {} images in dog_files is: {}%'.format(\n",
        "    n_test_images, sum(dog)/n_test_images * 100))\n",
        "\n"
      ],
      "execution_count": 101,
      "outputs": [
        {
          "output_type": "stream",
          "text": [
            "  3%|▎         | 3/100 [00:00<00:03, 25.10it/s]"
          ],
          "name": "stderr"
        },
        {
          "output_type": "stream",
          "text": [
            "Processing human images\n"
          ],
          "name": "stdout"
        },
        {
          "output_type": "stream",
          "text": [
            "100%|██████████| 100/100 [00:04<00:00, 24.52it/s]\n",
            "  2%|▏         | 2/100 [00:00<00:06, 14.81it/s]"
          ],
          "name": "stderr"
        },
        {
          "output_type": "stream",
          "text": [
            "Processing dog images\n"
          ],
          "name": "stdout"
        },
        {
          "output_type": "stream",
          "text": [
            "100%|██████████| 100/100 [00:07<00:00, 12.67it/s]"
          ],
          "name": "stderr"
        },
        {
          "output_type": "stream",
          "text": [
            "\n",
            " The percentage of the first 100 images in human_files is: 100.0%\n",
            "The percentage of the first 100 images in dog_files is: 18.0%\n"
          ],
          "name": "stdout"
        },
        {
          "output_type": "stream",
          "text": [
            "\n"
          ],
          "name": "stderr"
        }
      ]
    },
    {
      "cell_type": "markdown",
      "metadata": {
        "id": "Aan0MwB0wd9i"
      },
      "source": [
        "---\n",
        "<a id='step2'></a>\n",
        "## Step 2: Detect Dogs\n",
        "\n",
        "Pre-trained VGG-16 Model on ImageNet [ImageNet](http://www.image-net.org/), a very large, very popular dataset used for image classification and other vision tasks.  ImageNet contains over 10 million URLs, each linking to an image containing an object from one of [1000 categories](https://gist.github.com/yrevar/942d3a0ac09ec9e5eb3a).\n",
        "\n",
        "Given an image, this pre-trained VGG-16 model returns a prediction (derived from the 1000 possible categories in ImageNet) for the object that is contained in the image.\n",
        "\n",
        "The [dictionary](https://gist.github.com/yrevar/942d3a0ac09ec9e5eb3a) shows that the categories corresponding to dogs appear in an uninterrupted sequence and correspond to dictionary keys 151-268, inclusive, to include all categories from `'Chihuahua'` to `'Mexican hairless'`.  Thus, in order to check to see if an image is predicted to contain a dog by the pre-trained VGG-16 model, we need only check if the pre-trained model predicts an index between 151 and 268.\n",
        "\n"
      ]
    },
    {
      "cell_type": "code",
      "metadata": {
        "colab": {
          "base_uri": "https://localhost:8080/"
        },
        "id": "F7nrTE1lwd9i",
        "outputId": "8da35f3e-1aca-42a5-bb58-e01793e82074"
      },
      "source": [
        "import torchvision.models as models\n",
        "\n",
        "# define VGG16 model\n",
        "VGG16 = models.vgg16(pretrained=True).to(device)\n",
        "VGG16"
      ],
      "execution_count": 102,
      "outputs": [
        {
          "output_type": "execute_result",
          "data": {
            "text/plain": [
              "VGG(\n",
              "  (features): Sequential(\n",
              "    (0): Conv2d(3, 64, kernel_size=(3, 3), stride=(1, 1), padding=(1, 1))\n",
              "    (1): ReLU(inplace=True)\n",
              "    (2): Conv2d(64, 64, kernel_size=(3, 3), stride=(1, 1), padding=(1, 1))\n",
              "    (3): ReLU(inplace=True)\n",
              "    (4): MaxPool2d(kernel_size=2, stride=2, padding=0, dilation=1, ceil_mode=False)\n",
              "    (5): Conv2d(64, 128, kernel_size=(3, 3), stride=(1, 1), padding=(1, 1))\n",
              "    (6): ReLU(inplace=True)\n",
              "    (7): Conv2d(128, 128, kernel_size=(3, 3), stride=(1, 1), padding=(1, 1))\n",
              "    (8): ReLU(inplace=True)\n",
              "    (9): MaxPool2d(kernel_size=2, stride=2, padding=0, dilation=1, ceil_mode=False)\n",
              "    (10): Conv2d(128, 256, kernel_size=(3, 3), stride=(1, 1), padding=(1, 1))\n",
              "    (11): ReLU(inplace=True)\n",
              "    (12): Conv2d(256, 256, kernel_size=(3, 3), stride=(1, 1), padding=(1, 1))\n",
              "    (13): ReLU(inplace=True)\n",
              "    (14): Conv2d(256, 256, kernel_size=(3, 3), stride=(1, 1), padding=(1, 1))\n",
              "    (15): ReLU(inplace=True)\n",
              "    (16): MaxPool2d(kernel_size=2, stride=2, padding=0, dilation=1, ceil_mode=False)\n",
              "    (17): Conv2d(256, 512, kernel_size=(3, 3), stride=(1, 1), padding=(1, 1))\n",
              "    (18): ReLU(inplace=True)\n",
              "    (19): Conv2d(512, 512, kernel_size=(3, 3), stride=(1, 1), padding=(1, 1))\n",
              "    (20): ReLU(inplace=True)\n",
              "    (21): Conv2d(512, 512, kernel_size=(3, 3), stride=(1, 1), padding=(1, 1))\n",
              "    (22): ReLU(inplace=True)\n",
              "    (23): MaxPool2d(kernel_size=2, stride=2, padding=0, dilation=1, ceil_mode=False)\n",
              "    (24): Conv2d(512, 512, kernel_size=(3, 3), stride=(1, 1), padding=(1, 1))\n",
              "    (25): ReLU(inplace=True)\n",
              "    (26): Conv2d(512, 512, kernel_size=(3, 3), stride=(1, 1), padding=(1, 1))\n",
              "    (27): ReLU(inplace=True)\n",
              "    (28): Conv2d(512, 512, kernel_size=(3, 3), stride=(1, 1), padding=(1, 1))\n",
              "    (29): ReLU(inplace=True)\n",
              "    (30): MaxPool2d(kernel_size=2, stride=2, padding=0, dilation=1, ceil_mode=False)\n",
              "  )\n",
              "  (avgpool): AdaptiveAvgPool2d(output_size=(7, 7))\n",
              "  (classifier): Sequential(\n",
              "    (0): Linear(in_features=25088, out_features=4096, bias=True)\n",
              "    (1): ReLU(inplace=True)\n",
              "    (2): Dropout(p=0.5, inplace=False)\n",
              "    (3): Linear(in_features=4096, out_features=4096, bias=True)\n",
              "    (4): ReLU(inplace=True)\n",
              "    (5): Dropout(p=0.5, inplace=False)\n",
              "    (6): Linear(in_features=4096, out_features=1000, bias=True)\n",
              "  )\n",
              ")"
            ]
          },
          "metadata": {
            "tags": []
          },
          "execution_count": 102
        }
      ]
    },
    {
      "cell_type": "markdown",
      "metadata": {
        "id": "kYduzm3Twd9j"
      },
      "source": [
        "### Dog prediction function"
      ]
    },
    {
      "cell_type": "code",
      "metadata": {
        "id": "AAc6wErIwd9j"
      },
      "source": [
        "from PIL import Image\n",
        "import torchvision.transforms as T\n",
        "\n",
        "def VGG16_predict(net, img_path):\n",
        "    '''\n",
        "    Use pre-trained VGG-16 model to obtain index corresponding to \n",
        "    predicted ImageNet class.\n",
        "    \n",
        "    Args:\n",
        "        net (nn.Module): \n",
        "          The VGG16 model used to predict.\n",
        "        img_path (str): \n",
        "          path to an image.\n",
        "        \n",
        "    Returns:\n",
        "        Index corresponding to VGG-16 model's prediction.\n",
        "    '''\n",
        "    \n",
        "    # Create the transformer to input a format accepted from the VGG16\n",
        "    transform = T.Compose([\n",
        "        T.Resize(256), \n",
        "        T.CenterCrop(224),\n",
        "        T.ToTensor(),\n",
        "        T.Normalize([0.485, 0.456, 0.406], [0.229, 0.224, 0.225])\n",
        "    ])\n",
        "\n",
        "    # TODO fix normalization\n",
        "    \n",
        "    # Load and trasnform input image from path\n",
        "    img = transform(Image.open(img_path).convert('RGB')).to(device)\n",
        "\n",
        "    \n",
        "    \n",
        "    # Prepare the network\n",
        "    net.eval()\n",
        "    with torch.no_grad():\n",
        "        out = net(img.unsqueeze(0))\n",
        "    \n",
        "    \n",
        "    return int(torch.argmax(out)) # predicted class index"
      ],
      "execution_count": 103,
      "outputs": []
    },
    {
      "cell_type": "code",
      "metadata": {
        "colab": {
          "base_uri": "https://localhost:8080/"
        },
        "id": "AwbcMioOwd9k",
        "outputId": "01cbeaa9-afef-4faa-8d3f-fccf12c49727"
      },
      "source": [
        "import random\n",
        "# Test the output of VGG16 predict\n",
        "def test_VGG16_predict(net):\n",
        "    \n",
        "    image = human_files[random.randint(0,100)]\n",
        "    out = VGG16_predict(net,image)\n",
        "    assert 0 <= out <= 999, f'The output is not valid: {out}'\n",
        "    \n",
        "    print('Success')\n",
        "\n",
        "test_VGG16_predict(VGG16)"
      ],
      "execution_count": 104,
      "outputs": [
        {
          "output_type": "stream",
          "text": [
            "Success\n"
          ],
          "name": "stdout"
        }
      ]
    },
    {
      "cell_type": "code",
      "metadata": {
        "id": "c42xc1uFwfai"
      },
      "source": [
        "def dog_detector(model, img_path):\n",
        "    \"\"\"\n",
        "        Function that classify if the input image is a dog.\n",
        "    Args:\n",
        "        model:\n",
        "            Model used to detect the human.\n",
        "        img_path (str):\n",
        "            Path of the image to classify\n",
        "            \n",
        "    Returns:\n",
        "        classification (Bool):\n",
        "            True if the image is a dog picture, False otherwise.   \n",
        "\n",
        "    \"\"\"\n",
        "    # Detect dog\n",
        "    return False if 151 <= VGG16_predict(model, img_path) >= 268 else True\n",
        "\n",
        "      "
      ],
      "execution_count": 105,
      "outputs": []
    },
    {
      "cell_type": "markdown",
      "metadata": {
        "id": "gqDmYxrKwd9l"
      },
      "source": [
        "### Test the Dog Detector\n",
        "\n"
      ]
    },
    {
      "cell_type": "code",
      "metadata": {
        "colab": {
          "base_uri": "https://localhost:8080/"
        },
        "id": "E0hTtT2dwd9m",
        "outputId": "c305a0dd-8a8c-4613-c54c-e101ff9e3b39"
      },
      "source": [
        "\n",
        "human = [1 for i in range(n_test_images) if dog_detector(VGG16, human_files_short[i])]\n",
        "dog = [1 for i in range(n_test_images) if dog_detector(VGG16, dog_files_short[i])]\n",
        "\n",
        "print('The percentage of the images in human_files_short have a detected dog is {}'.format(sum(human)/n_test_images * 100))\n",
        "print('The percentage of the images in dog_files_short have a detected dog is {}'.format(sum(dog)/n_test_images * 100))"
      ],
      "execution_count": 106,
      "outputs": [
        {
          "output_type": "stream",
          "text": [
            "The percentage of the images in human_files_short have a detected dog is 1.0\n",
            "The percentage of the images in dog_files_short have a detected dog is 100.0\n"
          ],
          "name": "stdout"
        }
      ]
    },
    {
      "cell_type": "markdown",
      "metadata": {
        "id": "2HOlkmn3wd9m"
      },
      "source": [
        "<a id='step3'></a>\n",
        "## Step 3: CNN to Classify Dog Breeds (from Scratch)\n",
        "\n",
        "Now that we have functions for detecting humans and dogs in images, we need a way to predict breed from images.  \n",
        "\n",
        "Brittany | Welsh Springer Spaniel\n",
        "- | - \n",
        "<img src=\"https://github.com/matteoanelli/Dog_breed_classification/blob/master/images/Brittany_02625.jpg?raw=1\" width=\"100\"> | <img src=\"https://github.com/matteoanelli/Dog_breed_classification/blob/master/images/Welsh_springer_spaniel_08203.jpg?raw=1\" width=\"200\">\n",
        "\n",
        "It is not difficult to find other dog breed pairs with minimal inter-class variation (for instance, Curly-Coated Retrievers and American Water Spaniels).  \n",
        "\n",
        "Curly-Coated Retriever | American Water Spaniel\n",
        "- | -\n",
        "<img src=\"https://github.com/matteoanelli/Dog_breed_classification/blob/master/images/Curly-coated_retriever_03896.jpg?raw=1\" width=\"200\"> | <img src=\"https://github.com/matteoanelli/Dog_breed_classification/blob/master/images/American_water_spaniel_00648.jpg?raw=1\" width=\"200\">\n",
        "\n",
        "\n",
        "Likewise, recall that labradors come in yellow, chocolate, and black.  Your vision-based algorithm will have to conquer this high intra-class variation to determine how to classify all of these different shades as the same breed.  \n",
        "\n",
        "Yellow Labrador | Chocolate Labrador | Black Labrador\n",
        "- | -\n",
        "<img src=\"https://github.com/matteoanelli/Dog_breed_classification/blob/master/images/Labrador_retriever_06457.jpg?raw=1\" width=\"150\"> | <img src=\"https://github.com/matteoanelli/Dog_breed_classification/blob/master/images/Labrador_retriever_06455.jpg?raw=1\" width=\"240\"> | <img src=\"https://github.com/matteoanelli/Dog_breed_classification/blob/master/images/Labrador_retriever_06449.jpg?raw=1\" width=\"220\">\n",
        "\n",
        "We also mention that random chance presents an exceptionally low bar: setting aside the fact that the classes are slightly imabalanced, a random guess will provide a correct answer roughly 1 in 133 times, which corresponds to an accuracy of less than 1%.  \n",
        "\n",
        "Remember that the practice is far ahead of the theory in deep learning.  Experiment with many different architectures, and trust your intuition.  And, of course, have fun!\n"
      ]
    },
    {
      "cell_type": "markdown",
      "metadata": {
        "id": "iVaGXn3ky96L"
      },
      "source": [
        "### Specify Data Loaders for the Dog Dataset\n",
        "The images have been first resized and then cropped. The chosen dimension was 128. The value has been chosen empirically since it guarantees a balance between the model speed and the final accuracy. Examples of other dimensions tested are 256 and 64. Regarding the data augmentation, during the training, some images are randomly horizontally flipped or/and randomly rotated by a degree up to 15. Thanks to this data augmentation the train dataset size has been increased."
      ]
    },
    {
      "cell_type": "code",
      "metadata": {
        "id": "iklX4huKwd9n"
      },
      "source": [
        "import os\n",
        "from torchvision import datasets\n",
        "from PIL import ImageFile\n",
        "ImageFile.LOAD_TRUNCATED_IMAGES = True\n",
        "\n",
        "transform = {'train' : T.Compose([\n",
        "                            T.Resize(128),\n",
        "                            T.RandomHorizontalFlip(p=0.5),\n",
        "                            T.RandomRotation(degrees=15),\n",
        "                            T.CenterCrop(128),\n",
        "                            T.ToTensor(),\n",
        "                            T.Normalize([0.485, 0.456, 0.406], [0.229, 0.224, 0.225]), # Imagnet standard\n",
        "                            ]),\n",
        "            'valid' : T.Compose([\n",
        "                            T.Resize(128),\n",
        "                            T.CenterCrop(128),\n",
        "                            T.ToTensor(),\n",
        "                            T.Normalize([0.485, 0.456, 0.406], [0.229, 0.224, 0.225]),\n",
        "                            ]),\n",
        "            'test' : T.Compose([\n",
        "                            T.Resize(128),\n",
        "                            T.CenterCrop(128),\n",
        "                            T.ToTensor(),\n",
        "                            T.Normalize([0.485, 0.456, 0.406], [0.229, 0.224, 0.225]),\n",
        "                            ])\n",
        "            }\n",
        "    \n",
        "batch_size = 32\n",
        "\n",
        "train_set = datasets.ImageFolder('./dogImages/train', transform=transform['train'])\n",
        "traindataloader = torch.utils.data.DataLoader(train_set, batch_size=batch_size, shuffle=True, drop_last=True)\n",
        "\n",
        "valid_set = datasets.ImageFolder('./dogImages/valid', transform=transform['valid'])\n",
        "validdataloader = torch.utils.data.DataLoader(valid_set, batch_size=batch_size, shuffle=True, drop_last=True)\n",
        "\n",
        "test_set = datasets.ImageFolder('./dogImages/test', transform=transform['test'])\n",
        "testdataloader = torch.utils.data.DataLoader(test_set, batch_size=batch_size, shuffle=False, drop_last=True)\n",
        "\n",
        "loaders_scratch = {'train' : traindataloader,\n",
        "                  'valid' : validdataloader,\n",
        "                  'test' : testdataloader}"
      ],
      "execution_count": 107,
      "outputs": []
    },
    {
      "cell_type": "markdown",
      "metadata": {
        "id": "8w1ULcAlwd9n"
      },
      "source": [
        "### Model Architecture"
      ]
    },
    {
      "cell_type": "code",
      "metadata": {
        "id": "c17IZP_1wd9o"
      },
      "source": [
        "import torch.nn as nn\n",
        "import torch.nn.functional as F\n",
        "\n",
        "# Print module used during debugging\n",
        "class Print(nn.Module):\n",
        "    def __init__(self, message=\"Inside print layer\"):\n",
        "        super(Print, self).__init__()\n",
        "        self.message = message\n",
        "\n",
        "    def forward(self, x):\n",
        "        print(self.message)\n",
        "        print(x.shape)\n",
        "        return x\n",
        "\n",
        "class Flatten(nn.Module):\n",
        "  def __init__(self):\n",
        "    super(Flatten, self).__init__()\n",
        "\n",
        "  def forward(self, x):\n",
        "      \n",
        "      return x.view(x.shape[0], -1)\n",
        "\n",
        "\n",
        "class Net(nn.Module):\n",
        "    def __init__(self):\n",
        "        super(Net, self).__init__()\n",
        "        self.net = nn.Sequential(nn.Conv2d(3,32,5),\n",
        "                                nn.ReLU(),\n",
        "                                nn.MaxPool2d(2),\n",
        "                                nn.Conv2d(32,64,5),\n",
        "                                nn.ReLU(),\n",
        "                                nn.MaxPool2d(2),\n",
        "                                Flatten(),\n",
        "                                nn.Linear(29 * 29 * 64, 256),\n",
        "                                nn.ReLU(),\n",
        "                                nn.Dropout(0.4),\n",
        "                                nn.Linear(256, 128),\n",
        "                                nn.ReLU(),\n",
        "                                nn.Dropout(0.4),\n",
        "                                nn.Linear(128, 133), # TODO explain 133\n",
        "                                )\n",
        "    \n",
        "    def forward(self, x):\n",
        "        \n",
        "        return self.net(x)"
      ],
      "execution_count": 108,
      "outputs": []
    },
    {
      "cell_type": "code",
      "metadata": {
        "id": "lu8nXQ0kBapp",
        "outputId": "ff61e58b-b8a9-4cab-d408-89dc619e8fed",
        "colab": {
          "base_uri": "https://localhost:8080/"
        }
      },
      "source": [
        "#-#-# You so NOT have to modify the code below this line. #-#-#\n",
        "\n",
        "# instantiate the CNN\n",
        "model_scratch = Net().to(device)\n",
        "model_scratch"
      ],
      "execution_count": 109,
      "outputs": [
        {
          "output_type": "execute_result",
          "data": {
            "text/plain": [
              "Net(\n",
              "  (net): Sequential(\n",
              "    (0): Conv2d(3, 32, kernel_size=(5, 5), stride=(1, 1))\n",
              "    (1): ReLU()\n",
              "    (2): MaxPool2d(kernel_size=2, stride=2, padding=0, dilation=1, ceil_mode=False)\n",
              "    (3): Conv2d(32, 64, kernel_size=(5, 5), stride=(1, 1))\n",
              "    (4): ReLU()\n",
              "    (5): MaxPool2d(kernel_size=2, stride=2, padding=0, dilation=1, ceil_mode=False)\n",
              "    (6): Flatten()\n",
              "    (7): Linear(in_features=53824, out_features=256, bias=True)\n",
              "    (8): ReLU()\n",
              "    (9): Dropout(p=0.4, inplace=False)\n",
              "    (10): Linear(in_features=256, out_features=128, bias=True)\n",
              "    (11): ReLU()\n",
              "    (12): Dropout(p=0.4, inplace=False)\n",
              "    (13): Linear(in_features=128, out_features=133, bias=True)\n",
              "  )\n",
              ")"
            ]
          },
          "metadata": {
            "tags": []
          },
          "execution_count": 109
        }
      ]
    },
    {
      "cell_type": "code",
      "metadata": {
        "colab": {
          "base_uri": "https://localhost:8080/"
        },
        "id": "DX-syG2wwd9o",
        "outputId": "a6454b3b-95cc-4ec9-86fe-3dd867fcbe57"
      },
      "source": [
        "def test_Net_shapes():\n",
        "    net = Net()\n",
        "\n",
        "    # Feed a batch of images from the training data to test the network\n",
        "    with torch.no_grad():\n",
        "        images, labels = iter(traindataloader).next()\n",
        "        print('Shape of the input tensor:', images.shape)\n",
        "\n",
        "        y = net(images)\n",
        "        assert y.shape == torch.Size([traindataloader.batch_size, 133]), \"Bad shape of y: y.shape={}\".format(y.shape)\n",
        "\n",
        "    print('Success')\n",
        "\n",
        "test_Net_shapes()"
      ],
      "execution_count": 110,
      "outputs": [
        {
          "output_type": "stream",
          "text": [
            "Shape of the input tensor: torch.Size([32, 3, 128, 128])\n",
            "Success\n"
          ],
          "name": "stdout"
        }
      ]
    },
    {
      "cell_type": "markdown",
      "metadata": {
        "id": "ZgqBeB4jwd9o"
      },
      "source": [
        "__Question 4:__ Outline the steps you took to get to your final CNN architecture and your reasoning at each step.  "
      ]
    },
    {
      "cell_type": "markdown",
      "metadata": {
        "id": "m6hNJVB6wd9o"
      },
      "source": [
        "**Answer** In the beginning, the main idea was to follow the architecture of [LeNet-5](http://yann.lecun.com/exdb/publis/pdf/lecun-01a.pdf). It is a classical well-known architecture used for image classification. I chose this architecture as a base model since is not heavy and generally effective. To improve the accuracy I decided to increase the number of the channel inside the convolutional layers as well as increase the number of neurons inside the fully connected layers. Moreover, after these improvements, the model was reducing the training loss, however, the validation loss was not decreasing after a few epochs. For this reason, I decided to add dropout layers to regularize the network training process. \n",
        "\n",
        "The final model architecture is the following:"
      ]
    },
    {
      "cell_type": "code",
      "metadata": {
        "colab": {
          "base_uri": "https://localhost:8080/"
        },
        "id": "-T_A0hC1wd9p",
        "outputId": "ab50d8cd-639a-4028-d045-d020e86cd327"
      },
      "source": [
        "model_scratch"
      ],
      "execution_count": 111,
      "outputs": [
        {
          "output_type": "execute_result",
          "data": {
            "text/plain": [
              "Net(\n",
              "  (net): Sequential(\n",
              "    (0): Conv2d(3, 32, kernel_size=(5, 5), stride=(1, 1))\n",
              "    (1): ReLU()\n",
              "    (2): MaxPool2d(kernel_size=2, stride=2, padding=0, dilation=1, ceil_mode=False)\n",
              "    (3): Conv2d(32, 64, kernel_size=(5, 5), stride=(1, 1))\n",
              "    (4): ReLU()\n",
              "    (5): MaxPool2d(kernel_size=2, stride=2, padding=0, dilation=1, ceil_mode=False)\n",
              "    (6): Flatten()\n",
              "    (7): Linear(in_features=53824, out_features=256, bias=True)\n",
              "    (8): ReLU()\n",
              "    (9): Dropout(p=0.4, inplace=False)\n",
              "    (10): Linear(in_features=256, out_features=128, bias=True)\n",
              "    (11): ReLU()\n",
              "    (12): Dropout(p=0.4, inplace=False)\n",
              "    (13): Linear(in_features=128, out_features=133, bias=True)\n",
              "  )\n",
              ")"
            ]
          },
          "metadata": {
            "tags": []
          },
          "execution_count": 111
        }
      ]
    },
    {
      "cell_type": "markdown",
      "metadata": {
        "id": "3FRDGzItwd9p"
      },
      "source": [
        "### (IMPLEMENTATION) Specify Loss Function and Optimizer\n",
        "\n",
        "Use the next code cell to specify a [loss function](http://pytorch.org/docs/stable/nn.html#loss-functions) and [optimizer](http://pytorch.org/docs/stable/optim.html).  Save the chosen loss function as `criterion_scratch`, and the optimizer as `optimizer_scratch` below."
      ]
    },
    {
      "cell_type": "code",
      "metadata": {
        "id": "_TY6qt6Jwd9p"
      },
      "source": [
        "import torch.optim as optim\n",
        "\n",
        "### TODO: select loss function\n",
        "criterion_scratch = nn.CrossEntropyLoss()\n",
        "\n",
        "### TODO: select optimizer\n",
        "optimizer_scratch = optim.SGD(model_scratch.parameters(), lr=0.04)"
      ],
      "execution_count": 112,
      "outputs": []
    },
    {
      "cell_type": "markdown",
      "metadata": {
        "id": "Fgi-_H6Uwd9p"
      },
      "source": [
        "### (IMPLEMENTATION) Train and Validate the Model\n",
        "\n",
        "Train and validate your model in the code cell below.  [Save the final model parameters](http://pytorch.org/docs/master/notes/serialization.html) at filepath `'model_scratch.pt'`."
      ]
    },
    {
      "cell_type": "code",
      "metadata": {
        "id": "bWL8oS_Twd9p"
      },
      "source": [
        "def train(n_epochs, loaders, model, optimizer, criterion, device, save_path, saved_valid=None):\n",
        "    \"\"\"returns trained model\"\"\"\n",
        "    # initialize tracker for minimum validation loss\n",
        "    if saved_valid is None:\n",
        "        valid_loss_min = np.Inf \n",
        "    else: \n",
        "        valid_loss_min = saved_valid\n",
        "    stop = 5\n",
        "    no_imporve = 0\n",
        "    \n",
        "    for epoch in range(1, n_epochs+1):\n",
        "        # initialize variables to monitor training and validation loss\n",
        "        train_loss = 0.0\n",
        "        valid_loss = 0.0\n",
        "        \n",
        "        ###################\n",
        "        # train the model #\n",
        "        ###################\n",
        "        model.train()\n",
        "        for batch_idx, (data, target) in enumerate(loaders['train']):\n",
        "            # move to device\n",
        "            data, target = data.to(device), target.to(device)\n",
        "            ## find the loss and update the model parameters accordingly\n",
        "            optimizer.zero_grad()\n",
        "            output = model(data)\n",
        "            loss = criterion_scratch(output, target)\n",
        "            loss.backward()\n",
        "            optimizer.step()\n",
        "            ## record the average training loss, using something like\n",
        "                \n",
        "            train_loss = train_loss + ((1 / (batch_idx + 1)) * (loss.data - train_loss))\n",
        "            \n",
        "            # if batch_idx == 10:\n",
        "            #     break\n",
        "            \n",
        "        ######################    \n",
        "        # validate the model #\n",
        "        ######################\n",
        "        model.eval()\n",
        "        for batch_idx, (data, target) in enumerate(loaders['valid']):\n",
        "            # move to GPU\n",
        "            data, target = data.to(device), target.to(device)\n",
        "            ## update the average validation loss\n",
        "            with torch.no_grad():\n",
        "                output = model(data)\n",
        "                loss = criterion_scratch(output, target)\n",
        "                \n",
        "                valid_loss = valid_loss + ((1 / (batch_idx + 1)) * (loss.data - valid_loss))\n",
        "\n",
        "            # if batch_idx == 10:\n",
        "            #    break\n",
        "        # print training/validation statistics \n",
        "        print('Epoch: {} \\tTraining Loss: {:.6f} \\tValidation Loss: {:.6f}'.format(\n",
        "            epoch, \n",
        "            train_loss,\n",
        "            valid_loss\n",
        "            ))\n",
        "        \n",
        "        ## TODO: save the model if validation loss has decreased\n",
        "        if valid_loss < valid_loss_min:\n",
        "            torch.save(model.state_dict(), save_path)\n",
        "            print('Model saved with validation loss error: {}'.format(valid_loss))\n",
        "            valid_loss_min = valid_loss\n",
        "            no_imporve = 0\n",
        "        else:\n",
        "            no_imporve += 1\n",
        "            if no_imporve == stop:\n",
        "                print('Early Stopping! Validation error{}'.format(valid_loss_min))\n",
        "                break\n",
        "    \n",
        "    # return trained model\n",
        "    return model\n",
        "\n",
        "\n"
      ],
      "execution_count": 113,
      "outputs": []
    },
    {
      "cell_type": "code",
      "metadata": {
        "colab": {
          "base_uri": "https://localhost:8080/"
        },
        "id": "D5eOnXJMwd9q",
        "outputId": "fd34936a-7388-45ed-e078-17c601021615"
      },
      "source": [
        "# train the model\n",
        "if not skip_training:\n",
        "    model_scratch = train(2, loaders_scratch, model_scratch, optimizer_scratch, \n",
        "                          criterion_scratch, device, './model_scratch.pt')\n",
        "    model_scratch.load_state_dict(torch.load('./model_scratch.pt'))\n",
        "else:\n",
        "    model_scratch = Net()\n",
        "    model_scratch.load_state_dict(torch.load('./model_scratch.pt'))\n",
        "    model_scratch.to(device)"
      ],
      "execution_count": 114,
      "outputs": [
        {
          "output_type": "stream",
          "text": [
            "Epoch: 1 \tTraining Loss: 4.883071 \tValidation Loss: 4.849319\n",
            "Model saved with validation loss error: 4.849318981170654\n",
            "Epoch: 2 \tTraining Loss: 4.773460 \tValidation Loss: 4.595309\n",
            "Model saved with validation loss error: 4.595308780670166\n"
          ],
          "name": "stdout"
        }
      ]
    },
    {
      "cell_type": "markdown",
      "metadata": {
        "id": "ocBeO7M1wd9q"
      },
      "source": [
        "### Test the Model\n"
      ]
    },
    {
      "cell_type": "code",
      "metadata": {
        "colab": {
          "base_uri": "https://localhost:8080/"
        },
        "id": "CihbWg-wwd9r",
        "outputId": "e63dd45f-55e2-46c4-f70a-f927d4152a28"
      },
      "source": [
        "def test(loaders, model, criterion, device):\n",
        "\n",
        "    # monitor test loss and accuracy\n",
        "    test_loss = 0.\n",
        "    correct = 0.\n",
        "    total = 0.\n",
        "\n",
        "    model.eval()\n",
        "    for batch_idx, (data, target) in enumerate(loaders['test']):\n",
        "        # move to device\n",
        "        data, target = data.to(device), target.to(device)\n",
        "        # forward pass: compute predicted outputs by passing inputs to the model\n",
        "        output = model(data)\n",
        "        # calculate the loss\n",
        "        loss = criterion(output, target)\n",
        "        # update average test loss \n",
        "        test_loss = test_loss + ((1 / (batch_idx + 1)) * (loss.data - test_loss))\n",
        "        # convert output probabilities to predicted class\n",
        "        pred = output.data.max(1, keepdim=True)[1]\n",
        "        # compare predictions to true label\n",
        "        correct += np.sum(np.squeeze(pred.eq(target.data.view_as(pred))).cpu().numpy())\n",
        "        total += data.size(0)\n",
        "            \n",
        "    print('Test Loss: {:.6f}\\n'.format(test_loss))\n",
        "\n",
        "    print('\\nTest Accuracy: %2d%% (%2d/%2d)' % (\n",
        "        100. * correct / total, correct, total))\n",
        "\n",
        "# call test function    \n",
        "test(loaders_scratch, model_scratch, criterion_scratch, device)"
      ],
      "execution_count": 115,
      "outputs": [
        {
          "output_type": "stream",
          "text": [
            "Test Loss: 4.589370\n",
            "\n",
            "\n",
            "Test Accuracy:  3% (25/832)\n"
          ],
          "name": "stdout"
        }
      ]
    },
    {
      "cell_type": "markdown",
      "metadata": {
        "id": "DfiblANrwd9s"
      },
      "source": [
        "---\n",
        "<a id='step4'></a>\n",
        "## Step 4: Create a CNN to Classify Dog Breeds (using Transfer Learning)\n"
      ]
    },
    {
      "cell_type": "code",
      "metadata": {
        "id": "I2NE5oCTwd9s"
      },
      "source": [
        "## TODO: Specify data loaders\n",
        "transform = {'train' : T.Compose([\n",
        "                            T.Resize(224),\n",
        "                            T.RandomHorizontalFlip(p=0.5),\n",
        "                            T.RandomRotation(degrees=15),\n",
        "                            T.CenterCrop(224),\n",
        "                            T.ToTensor(),\n",
        "                            T.Normalize([0.485, 0.456, 0.406], [0.229, 0.224, 0.225]), # Imagnet standard\n",
        "                            ]),\n",
        "            'valid' : T.Compose([\n",
        "                            T.Resize(224),\n",
        "                            T.CenterCrop(224),\n",
        "                            T.ToTensor(),\n",
        "                            T.Normalize([0.485, 0.456, 0.406], [0.229, 0.224, 0.225]),\n",
        "                            ]),\n",
        "            'test' : T.Compose([\n",
        "                            T.Resize(224),\n",
        "                            T.CenterCrop(224),\n",
        "                            T.ToTensor(),\n",
        "                            T.Normalize([0.485, 0.456, 0.406], [0.229, 0.224, 0.225]),\n",
        "                            ])\n",
        "            }\n",
        "\n",
        "batch_size = 32\n",
        "\n",
        "train_set = datasets.ImageFolder('./dogImages/train', transform=transform['train'])\n",
        "traindataloader = torch.utils.data.DataLoader(train_set, batch_size=batch_size, shuffle=True, drop_last=True)\n",
        "\n",
        "valid_set = datasets.ImageFolder('./dogImages/valid', transform=transform['valid'])\n",
        "validdataloader = torch.utils.data.DataLoader(valid_set, batch_size=batch_size, shuffle=True, drop_last=True)\n",
        "\n",
        "test_set = datasets.ImageFolder('./dogImages/test', transform=transform['test'])\n",
        "testdataloader = torch.utils.data.DataLoader(test_set, batch_size=batch_size, shuffle=False, drop_last=True)\n",
        "\n",
        "loaders_transfer = {'train' : traindataloader,\n",
        "                  'valid' : validdataloader,\n",
        "                  'test' : testdataloader}"
      ],
      "execution_count": 116,
      "outputs": []
    },
    {
      "cell_type": "markdown",
      "metadata": {
        "id": "zDUSxK-ewd9t"
      },
      "source": [
        "Model Architecture\n"
      ]
    },
    {
      "cell_type": "code",
      "metadata": {
        "colab": {
          "base_uri": "https://localhost:8080/"
        },
        "id": "o0frSzjowd9t",
        "outputId": "9a1b6b66-1f68-484a-d6d9-e8de946e3439"
      },
      "source": [
        "import torchvision.models as models\n",
        "import torch.nn as nn\n",
        "\n",
        "model_transfer = models.resnet50(pretrained=True)\n",
        "\n",
        "# Freeze the layers except for the last one.\n",
        "num_ftrs = model_transfer.fc.in_features\n",
        "for param in model_transfer.parameters():\n",
        "    param.requires_grad = False\n",
        "model_transfer.fc = nn.Linear(num_ftrs, 133)\n",
        "\n",
        "model_transfer.to(device)"
      ],
      "execution_count": 117,
      "outputs": [
        {
          "output_type": "execute_result",
          "data": {
            "text/plain": [
              "ResNet(\n",
              "  (conv1): Conv2d(3, 64, kernel_size=(7, 7), stride=(2, 2), padding=(3, 3), bias=False)\n",
              "  (bn1): BatchNorm2d(64, eps=1e-05, momentum=0.1, affine=True, track_running_stats=True)\n",
              "  (relu): ReLU(inplace=True)\n",
              "  (maxpool): MaxPool2d(kernel_size=3, stride=2, padding=1, dilation=1, ceil_mode=False)\n",
              "  (layer1): Sequential(\n",
              "    (0): Bottleneck(\n",
              "      (conv1): Conv2d(64, 64, kernel_size=(1, 1), stride=(1, 1), bias=False)\n",
              "      (bn1): BatchNorm2d(64, eps=1e-05, momentum=0.1, affine=True, track_running_stats=True)\n",
              "      (conv2): Conv2d(64, 64, kernel_size=(3, 3), stride=(1, 1), padding=(1, 1), bias=False)\n",
              "      (bn2): BatchNorm2d(64, eps=1e-05, momentum=0.1, affine=True, track_running_stats=True)\n",
              "      (conv3): Conv2d(64, 256, kernel_size=(1, 1), stride=(1, 1), bias=False)\n",
              "      (bn3): BatchNorm2d(256, eps=1e-05, momentum=0.1, affine=True, track_running_stats=True)\n",
              "      (relu): ReLU(inplace=True)\n",
              "      (downsample): Sequential(\n",
              "        (0): Conv2d(64, 256, kernel_size=(1, 1), stride=(1, 1), bias=False)\n",
              "        (1): BatchNorm2d(256, eps=1e-05, momentum=0.1, affine=True, track_running_stats=True)\n",
              "      )\n",
              "    )\n",
              "    (1): Bottleneck(\n",
              "      (conv1): Conv2d(256, 64, kernel_size=(1, 1), stride=(1, 1), bias=False)\n",
              "      (bn1): BatchNorm2d(64, eps=1e-05, momentum=0.1, affine=True, track_running_stats=True)\n",
              "      (conv2): Conv2d(64, 64, kernel_size=(3, 3), stride=(1, 1), padding=(1, 1), bias=False)\n",
              "      (bn2): BatchNorm2d(64, eps=1e-05, momentum=0.1, affine=True, track_running_stats=True)\n",
              "      (conv3): Conv2d(64, 256, kernel_size=(1, 1), stride=(1, 1), bias=False)\n",
              "      (bn3): BatchNorm2d(256, eps=1e-05, momentum=0.1, affine=True, track_running_stats=True)\n",
              "      (relu): ReLU(inplace=True)\n",
              "    )\n",
              "    (2): Bottleneck(\n",
              "      (conv1): Conv2d(256, 64, kernel_size=(1, 1), stride=(1, 1), bias=False)\n",
              "      (bn1): BatchNorm2d(64, eps=1e-05, momentum=0.1, affine=True, track_running_stats=True)\n",
              "      (conv2): Conv2d(64, 64, kernel_size=(3, 3), stride=(1, 1), padding=(1, 1), bias=False)\n",
              "      (bn2): BatchNorm2d(64, eps=1e-05, momentum=0.1, affine=True, track_running_stats=True)\n",
              "      (conv3): Conv2d(64, 256, kernel_size=(1, 1), stride=(1, 1), bias=False)\n",
              "      (bn3): BatchNorm2d(256, eps=1e-05, momentum=0.1, affine=True, track_running_stats=True)\n",
              "      (relu): ReLU(inplace=True)\n",
              "    )\n",
              "  )\n",
              "  (layer2): Sequential(\n",
              "    (0): Bottleneck(\n",
              "      (conv1): Conv2d(256, 128, kernel_size=(1, 1), stride=(1, 1), bias=False)\n",
              "      (bn1): BatchNorm2d(128, eps=1e-05, momentum=0.1, affine=True, track_running_stats=True)\n",
              "      (conv2): Conv2d(128, 128, kernel_size=(3, 3), stride=(2, 2), padding=(1, 1), bias=False)\n",
              "      (bn2): BatchNorm2d(128, eps=1e-05, momentum=0.1, affine=True, track_running_stats=True)\n",
              "      (conv3): Conv2d(128, 512, kernel_size=(1, 1), stride=(1, 1), bias=False)\n",
              "      (bn3): BatchNorm2d(512, eps=1e-05, momentum=0.1, affine=True, track_running_stats=True)\n",
              "      (relu): ReLU(inplace=True)\n",
              "      (downsample): Sequential(\n",
              "        (0): Conv2d(256, 512, kernel_size=(1, 1), stride=(2, 2), bias=False)\n",
              "        (1): BatchNorm2d(512, eps=1e-05, momentum=0.1, affine=True, track_running_stats=True)\n",
              "      )\n",
              "    )\n",
              "    (1): Bottleneck(\n",
              "      (conv1): Conv2d(512, 128, kernel_size=(1, 1), stride=(1, 1), bias=False)\n",
              "      (bn1): BatchNorm2d(128, eps=1e-05, momentum=0.1, affine=True, track_running_stats=True)\n",
              "      (conv2): Conv2d(128, 128, kernel_size=(3, 3), stride=(1, 1), padding=(1, 1), bias=False)\n",
              "      (bn2): BatchNorm2d(128, eps=1e-05, momentum=0.1, affine=True, track_running_stats=True)\n",
              "      (conv3): Conv2d(128, 512, kernel_size=(1, 1), stride=(1, 1), bias=False)\n",
              "      (bn3): BatchNorm2d(512, eps=1e-05, momentum=0.1, affine=True, track_running_stats=True)\n",
              "      (relu): ReLU(inplace=True)\n",
              "    )\n",
              "    (2): Bottleneck(\n",
              "      (conv1): Conv2d(512, 128, kernel_size=(1, 1), stride=(1, 1), bias=False)\n",
              "      (bn1): BatchNorm2d(128, eps=1e-05, momentum=0.1, affine=True, track_running_stats=True)\n",
              "      (conv2): Conv2d(128, 128, kernel_size=(3, 3), stride=(1, 1), padding=(1, 1), bias=False)\n",
              "      (bn2): BatchNorm2d(128, eps=1e-05, momentum=0.1, affine=True, track_running_stats=True)\n",
              "      (conv3): Conv2d(128, 512, kernel_size=(1, 1), stride=(1, 1), bias=False)\n",
              "      (bn3): BatchNorm2d(512, eps=1e-05, momentum=0.1, affine=True, track_running_stats=True)\n",
              "      (relu): ReLU(inplace=True)\n",
              "    )\n",
              "    (3): Bottleneck(\n",
              "      (conv1): Conv2d(512, 128, kernel_size=(1, 1), stride=(1, 1), bias=False)\n",
              "      (bn1): BatchNorm2d(128, eps=1e-05, momentum=0.1, affine=True, track_running_stats=True)\n",
              "      (conv2): Conv2d(128, 128, kernel_size=(3, 3), stride=(1, 1), padding=(1, 1), bias=False)\n",
              "      (bn2): BatchNorm2d(128, eps=1e-05, momentum=0.1, affine=True, track_running_stats=True)\n",
              "      (conv3): Conv2d(128, 512, kernel_size=(1, 1), stride=(1, 1), bias=False)\n",
              "      (bn3): BatchNorm2d(512, eps=1e-05, momentum=0.1, affine=True, track_running_stats=True)\n",
              "      (relu): ReLU(inplace=True)\n",
              "    )\n",
              "  )\n",
              "  (layer3): Sequential(\n",
              "    (0): Bottleneck(\n",
              "      (conv1): Conv2d(512, 256, kernel_size=(1, 1), stride=(1, 1), bias=False)\n",
              "      (bn1): BatchNorm2d(256, eps=1e-05, momentum=0.1, affine=True, track_running_stats=True)\n",
              "      (conv2): Conv2d(256, 256, kernel_size=(3, 3), stride=(2, 2), padding=(1, 1), bias=False)\n",
              "      (bn2): BatchNorm2d(256, eps=1e-05, momentum=0.1, affine=True, track_running_stats=True)\n",
              "      (conv3): Conv2d(256, 1024, kernel_size=(1, 1), stride=(1, 1), bias=False)\n",
              "      (bn3): BatchNorm2d(1024, eps=1e-05, momentum=0.1, affine=True, track_running_stats=True)\n",
              "      (relu): ReLU(inplace=True)\n",
              "      (downsample): Sequential(\n",
              "        (0): Conv2d(512, 1024, kernel_size=(1, 1), stride=(2, 2), bias=False)\n",
              "        (1): BatchNorm2d(1024, eps=1e-05, momentum=0.1, affine=True, track_running_stats=True)\n",
              "      )\n",
              "    )\n",
              "    (1): Bottleneck(\n",
              "      (conv1): Conv2d(1024, 256, kernel_size=(1, 1), stride=(1, 1), bias=False)\n",
              "      (bn1): BatchNorm2d(256, eps=1e-05, momentum=0.1, affine=True, track_running_stats=True)\n",
              "      (conv2): Conv2d(256, 256, kernel_size=(3, 3), stride=(1, 1), padding=(1, 1), bias=False)\n",
              "      (bn2): BatchNorm2d(256, eps=1e-05, momentum=0.1, affine=True, track_running_stats=True)\n",
              "      (conv3): Conv2d(256, 1024, kernel_size=(1, 1), stride=(1, 1), bias=False)\n",
              "      (bn3): BatchNorm2d(1024, eps=1e-05, momentum=0.1, affine=True, track_running_stats=True)\n",
              "      (relu): ReLU(inplace=True)\n",
              "    )\n",
              "    (2): Bottleneck(\n",
              "      (conv1): Conv2d(1024, 256, kernel_size=(1, 1), stride=(1, 1), bias=False)\n",
              "      (bn1): BatchNorm2d(256, eps=1e-05, momentum=0.1, affine=True, track_running_stats=True)\n",
              "      (conv2): Conv2d(256, 256, kernel_size=(3, 3), stride=(1, 1), padding=(1, 1), bias=False)\n",
              "      (bn2): BatchNorm2d(256, eps=1e-05, momentum=0.1, affine=True, track_running_stats=True)\n",
              "      (conv3): Conv2d(256, 1024, kernel_size=(1, 1), stride=(1, 1), bias=False)\n",
              "      (bn3): BatchNorm2d(1024, eps=1e-05, momentum=0.1, affine=True, track_running_stats=True)\n",
              "      (relu): ReLU(inplace=True)\n",
              "    )\n",
              "    (3): Bottleneck(\n",
              "      (conv1): Conv2d(1024, 256, kernel_size=(1, 1), stride=(1, 1), bias=False)\n",
              "      (bn1): BatchNorm2d(256, eps=1e-05, momentum=0.1, affine=True, track_running_stats=True)\n",
              "      (conv2): Conv2d(256, 256, kernel_size=(3, 3), stride=(1, 1), padding=(1, 1), bias=False)\n",
              "      (bn2): BatchNorm2d(256, eps=1e-05, momentum=0.1, affine=True, track_running_stats=True)\n",
              "      (conv3): Conv2d(256, 1024, kernel_size=(1, 1), stride=(1, 1), bias=False)\n",
              "      (bn3): BatchNorm2d(1024, eps=1e-05, momentum=0.1, affine=True, track_running_stats=True)\n",
              "      (relu): ReLU(inplace=True)\n",
              "    )\n",
              "    (4): Bottleneck(\n",
              "      (conv1): Conv2d(1024, 256, kernel_size=(1, 1), stride=(1, 1), bias=False)\n",
              "      (bn1): BatchNorm2d(256, eps=1e-05, momentum=0.1, affine=True, track_running_stats=True)\n",
              "      (conv2): Conv2d(256, 256, kernel_size=(3, 3), stride=(1, 1), padding=(1, 1), bias=False)\n",
              "      (bn2): BatchNorm2d(256, eps=1e-05, momentum=0.1, affine=True, track_running_stats=True)\n",
              "      (conv3): Conv2d(256, 1024, kernel_size=(1, 1), stride=(1, 1), bias=False)\n",
              "      (bn3): BatchNorm2d(1024, eps=1e-05, momentum=0.1, affine=True, track_running_stats=True)\n",
              "      (relu): ReLU(inplace=True)\n",
              "    )\n",
              "    (5): Bottleneck(\n",
              "      (conv1): Conv2d(1024, 256, kernel_size=(1, 1), stride=(1, 1), bias=False)\n",
              "      (bn1): BatchNorm2d(256, eps=1e-05, momentum=0.1, affine=True, track_running_stats=True)\n",
              "      (conv2): Conv2d(256, 256, kernel_size=(3, 3), stride=(1, 1), padding=(1, 1), bias=False)\n",
              "      (bn2): BatchNorm2d(256, eps=1e-05, momentum=0.1, affine=True, track_running_stats=True)\n",
              "      (conv3): Conv2d(256, 1024, kernel_size=(1, 1), stride=(1, 1), bias=False)\n",
              "      (bn3): BatchNorm2d(1024, eps=1e-05, momentum=0.1, affine=True, track_running_stats=True)\n",
              "      (relu): ReLU(inplace=True)\n",
              "    )\n",
              "  )\n",
              "  (layer4): Sequential(\n",
              "    (0): Bottleneck(\n",
              "      (conv1): Conv2d(1024, 512, kernel_size=(1, 1), stride=(1, 1), bias=False)\n",
              "      (bn1): BatchNorm2d(512, eps=1e-05, momentum=0.1, affine=True, track_running_stats=True)\n",
              "      (conv2): Conv2d(512, 512, kernel_size=(3, 3), stride=(2, 2), padding=(1, 1), bias=False)\n",
              "      (bn2): BatchNorm2d(512, eps=1e-05, momentum=0.1, affine=True, track_running_stats=True)\n",
              "      (conv3): Conv2d(512, 2048, kernel_size=(1, 1), stride=(1, 1), bias=False)\n",
              "      (bn3): BatchNorm2d(2048, eps=1e-05, momentum=0.1, affine=True, track_running_stats=True)\n",
              "      (relu): ReLU(inplace=True)\n",
              "      (downsample): Sequential(\n",
              "        (0): Conv2d(1024, 2048, kernel_size=(1, 1), stride=(2, 2), bias=False)\n",
              "        (1): BatchNorm2d(2048, eps=1e-05, momentum=0.1, affine=True, track_running_stats=True)\n",
              "      )\n",
              "    )\n",
              "    (1): Bottleneck(\n",
              "      (conv1): Conv2d(2048, 512, kernel_size=(1, 1), stride=(1, 1), bias=False)\n",
              "      (bn1): BatchNorm2d(512, eps=1e-05, momentum=0.1, affine=True, track_running_stats=True)\n",
              "      (conv2): Conv2d(512, 512, kernel_size=(3, 3), stride=(1, 1), padding=(1, 1), bias=False)\n",
              "      (bn2): BatchNorm2d(512, eps=1e-05, momentum=0.1, affine=True, track_running_stats=True)\n",
              "      (conv3): Conv2d(512, 2048, kernel_size=(1, 1), stride=(1, 1), bias=False)\n",
              "      (bn3): BatchNorm2d(2048, eps=1e-05, momentum=0.1, affine=True, track_running_stats=True)\n",
              "      (relu): ReLU(inplace=True)\n",
              "    )\n",
              "    (2): Bottleneck(\n",
              "      (conv1): Conv2d(2048, 512, kernel_size=(1, 1), stride=(1, 1), bias=False)\n",
              "      (bn1): BatchNorm2d(512, eps=1e-05, momentum=0.1, affine=True, track_running_stats=True)\n",
              "      (conv2): Conv2d(512, 512, kernel_size=(3, 3), stride=(1, 1), padding=(1, 1), bias=False)\n",
              "      (bn2): BatchNorm2d(512, eps=1e-05, momentum=0.1, affine=True, track_running_stats=True)\n",
              "      (conv3): Conv2d(512, 2048, kernel_size=(1, 1), stride=(1, 1), bias=False)\n",
              "      (bn3): BatchNorm2d(2048, eps=1e-05, momentum=0.1, affine=True, track_running_stats=True)\n",
              "      (relu): ReLU(inplace=True)\n",
              "    )\n",
              "  )\n",
              "  (avgpool): AdaptiveAvgPool2d(output_size=(1, 1))\n",
              "  (fc): Linear(in_features=2048, out_features=133, bias=True)\n",
              ")"
            ]
          },
          "metadata": {
            "tags": []
          },
          "execution_count": 117
        }
      ]
    },
    {
      "cell_type": "code",
      "metadata": {
        "colab": {
          "base_uri": "https://localhost:8080/"
        },
        "id": "ZO_bGnZgwd9y",
        "outputId": "e1305a7e-6ce1-46f7-dbe1-6ddddc9c4adf"
      },
      "source": [
        "model_transfer"
      ],
      "execution_count": 118,
      "outputs": [
        {
          "output_type": "execute_result",
          "data": {
            "text/plain": [
              "ResNet(\n",
              "  (conv1): Conv2d(3, 64, kernel_size=(7, 7), stride=(2, 2), padding=(3, 3), bias=False)\n",
              "  (bn1): BatchNorm2d(64, eps=1e-05, momentum=0.1, affine=True, track_running_stats=True)\n",
              "  (relu): ReLU(inplace=True)\n",
              "  (maxpool): MaxPool2d(kernel_size=3, stride=2, padding=1, dilation=1, ceil_mode=False)\n",
              "  (layer1): Sequential(\n",
              "    (0): Bottleneck(\n",
              "      (conv1): Conv2d(64, 64, kernel_size=(1, 1), stride=(1, 1), bias=False)\n",
              "      (bn1): BatchNorm2d(64, eps=1e-05, momentum=0.1, affine=True, track_running_stats=True)\n",
              "      (conv2): Conv2d(64, 64, kernel_size=(3, 3), stride=(1, 1), padding=(1, 1), bias=False)\n",
              "      (bn2): BatchNorm2d(64, eps=1e-05, momentum=0.1, affine=True, track_running_stats=True)\n",
              "      (conv3): Conv2d(64, 256, kernel_size=(1, 1), stride=(1, 1), bias=False)\n",
              "      (bn3): BatchNorm2d(256, eps=1e-05, momentum=0.1, affine=True, track_running_stats=True)\n",
              "      (relu): ReLU(inplace=True)\n",
              "      (downsample): Sequential(\n",
              "        (0): Conv2d(64, 256, kernel_size=(1, 1), stride=(1, 1), bias=False)\n",
              "        (1): BatchNorm2d(256, eps=1e-05, momentum=0.1, affine=True, track_running_stats=True)\n",
              "      )\n",
              "    )\n",
              "    (1): Bottleneck(\n",
              "      (conv1): Conv2d(256, 64, kernel_size=(1, 1), stride=(1, 1), bias=False)\n",
              "      (bn1): BatchNorm2d(64, eps=1e-05, momentum=0.1, affine=True, track_running_stats=True)\n",
              "      (conv2): Conv2d(64, 64, kernel_size=(3, 3), stride=(1, 1), padding=(1, 1), bias=False)\n",
              "      (bn2): BatchNorm2d(64, eps=1e-05, momentum=0.1, affine=True, track_running_stats=True)\n",
              "      (conv3): Conv2d(64, 256, kernel_size=(1, 1), stride=(1, 1), bias=False)\n",
              "      (bn3): BatchNorm2d(256, eps=1e-05, momentum=0.1, affine=True, track_running_stats=True)\n",
              "      (relu): ReLU(inplace=True)\n",
              "    )\n",
              "    (2): Bottleneck(\n",
              "      (conv1): Conv2d(256, 64, kernel_size=(1, 1), stride=(1, 1), bias=False)\n",
              "      (bn1): BatchNorm2d(64, eps=1e-05, momentum=0.1, affine=True, track_running_stats=True)\n",
              "      (conv2): Conv2d(64, 64, kernel_size=(3, 3), stride=(1, 1), padding=(1, 1), bias=False)\n",
              "      (bn2): BatchNorm2d(64, eps=1e-05, momentum=0.1, affine=True, track_running_stats=True)\n",
              "      (conv3): Conv2d(64, 256, kernel_size=(1, 1), stride=(1, 1), bias=False)\n",
              "      (bn3): BatchNorm2d(256, eps=1e-05, momentum=0.1, affine=True, track_running_stats=True)\n",
              "      (relu): ReLU(inplace=True)\n",
              "    )\n",
              "  )\n",
              "  (layer2): Sequential(\n",
              "    (0): Bottleneck(\n",
              "      (conv1): Conv2d(256, 128, kernel_size=(1, 1), stride=(1, 1), bias=False)\n",
              "      (bn1): BatchNorm2d(128, eps=1e-05, momentum=0.1, affine=True, track_running_stats=True)\n",
              "      (conv2): Conv2d(128, 128, kernel_size=(3, 3), stride=(2, 2), padding=(1, 1), bias=False)\n",
              "      (bn2): BatchNorm2d(128, eps=1e-05, momentum=0.1, affine=True, track_running_stats=True)\n",
              "      (conv3): Conv2d(128, 512, kernel_size=(1, 1), stride=(1, 1), bias=False)\n",
              "      (bn3): BatchNorm2d(512, eps=1e-05, momentum=0.1, affine=True, track_running_stats=True)\n",
              "      (relu): ReLU(inplace=True)\n",
              "      (downsample): Sequential(\n",
              "        (0): Conv2d(256, 512, kernel_size=(1, 1), stride=(2, 2), bias=False)\n",
              "        (1): BatchNorm2d(512, eps=1e-05, momentum=0.1, affine=True, track_running_stats=True)\n",
              "      )\n",
              "    )\n",
              "    (1): Bottleneck(\n",
              "      (conv1): Conv2d(512, 128, kernel_size=(1, 1), stride=(1, 1), bias=False)\n",
              "      (bn1): BatchNorm2d(128, eps=1e-05, momentum=0.1, affine=True, track_running_stats=True)\n",
              "      (conv2): Conv2d(128, 128, kernel_size=(3, 3), stride=(1, 1), padding=(1, 1), bias=False)\n",
              "      (bn2): BatchNorm2d(128, eps=1e-05, momentum=0.1, affine=True, track_running_stats=True)\n",
              "      (conv3): Conv2d(128, 512, kernel_size=(1, 1), stride=(1, 1), bias=False)\n",
              "      (bn3): BatchNorm2d(512, eps=1e-05, momentum=0.1, affine=True, track_running_stats=True)\n",
              "      (relu): ReLU(inplace=True)\n",
              "    )\n",
              "    (2): Bottleneck(\n",
              "      (conv1): Conv2d(512, 128, kernel_size=(1, 1), stride=(1, 1), bias=False)\n",
              "      (bn1): BatchNorm2d(128, eps=1e-05, momentum=0.1, affine=True, track_running_stats=True)\n",
              "      (conv2): Conv2d(128, 128, kernel_size=(3, 3), stride=(1, 1), padding=(1, 1), bias=False)\n",
              "      (bn2): BatchNorm2d(128, eps=1e-05, momentum=0.1, affine=True, track_running_stats=True)\n",
              "      (conv3): Conv2d(128, 512, kernel_size=(1, 1), stride=(1, 1), bias=False)\n",
              "      (bn3): BatchNorm2d(512, eps=1e-05, momentum=0.1, affine=True, track_running_stats=True)\n",
              "      (relu): ReLU(inplace=True)\n",
              "    )\n",
              "    (3): Bottleneck(\n",
              "      (conv1): Conv2d(512, 128, kernel_size=(1, 1), stride=(1, 1), bias=False)\n",
              "      (bn1): BatchNorm2d(128, eps=1e-05, momentum=0.1, affine=True, track_running_stats=True)\n",
              "      (conv2): Conv2d(128, 128, kernel_size=(3, 3), stride=(1, 1), padding=(1, 1), bias=False)\n",
              "      (bn2): BatchNorm2d(128, eps=1e-05, momentum=0.1, affine=True, track_running_stats=True)\n",
              "      (conv3): Conv2d(128, 512, kernel_size=(1, 1), stride=(1, 1), bias=False)\n",
              "      (bn3): BatchNorm2d(512, eps=1e-05, momentum=0.1, affine=True, track_running_stats=True)\n",
              "      (relu): ReLU(inplace=True)\n",
              "    )\n",
              "  )\n",
              "  (layer3): Sequential(\n",
              "    (0): Bottleneck(\n",
              "      (conv1): Conv2d(512, 256, kernel_size=(1, 1), stride=(1, 1), bias=False)\n",
              "      (bn1): BatchNorm2d(256, eps=1e-05, momentum=0.1, affine=True, track_running_stats=True)\n",
              "      (conv2): Conv2d(256, 256, kernel_size=(3, 3), stride=(2, 2), padding=(1, 1), bias=False)\n",
              "      (bn2): BatchNorm2d(256, eps=1e-05, momentum=0.1, affine=True, track_running_stats=True)\n",
              "      (conv3): Conv2d(256, 1024, kernel_size=(1, 1), stride=(1, 1), bias=False)\n",
              "      (bn3): BatchNorm2d(1024, eps=1e-05, momentum=0.1, affine=True, track_running_stats=True)\n",
              "      (relu): ReLU(inplace=True)\n",
              "      (downsample): Sequential(\n",
              "        (0): Conv2d(512, 1024, kernel_size=(1, 1), stride=(2, 2), bias=False)\n",
              "        (1): BatchNorm2d(1024, eps=1e-05, momentum=0.1, affine=True, track_running_stats=True)\n",
              "      )\n",
              "    )\n",
              "    (1): Bottleneck(\n",
              "      (conv1): Conv2d(1024, 256, kernel_size=(1, 1), stride=(1, 1), bias=False)\n",
              "      (bn1): BatchNorm2d(256, eps=1e-05, momentum=0.1, affine=True, track_running_stats=True)\n",
              "      (conv2): Conv2d(256, 256, kernel_size=(3, 3), stride=(1, 1), padding=(1, 1), bias=False)\n",
              "      (bn2): BatchNorm2d(256, eps=1e-05, momentum=0.1, affine=True, track_running_stats=True)\n",
              "      (conv3): Conv2d(256, 1024, kernel_size=(1, 1), stride=(1, 1), bias=False)\n",
              "      (bn3): BatchNorm2d(1024, eps=1e-05, momentum=0.1, affine=True, track_running_stats=True)\n",
              "      (relu): ReLU(inplace=True)\n",
              "    )\n",
              "    (2): Bottleneck(\n",
              "      (conv1): Conv2d(1024, 256, kernel_size=(1, 1), stride=(1, 1), bias=False)\n",
              "      (bn1): BatchNorm2d(256, eps=1e-05, momentum=0.1, affine=True, track_running_stats=True)\n",
              "      (conv2): Conv2d(256, 256, kernel_size=(3, 3), stride=(1, 1), padding=(1, 1), bias=False)\n",
              "      (bn2): BatchNorm2d(256, eps=1e-05, momentum=0.1, affine=True, track_running_stats=True)\n",
              "      (conv3): Conv2d(256, 1024, kernel_size=(1, 1), stride=(1, 1), bias=False)\n",
              "      (bn3): BatchNorm2d(1024, eps=1e-05, momentum=0.1, affine=True, track_running_stats=True)\n",
              "      (relu): ReLU(inplace=True)\n",
              "    )\n",
              "    (3): Bottleneck(\n",
              "      (conv1): Conv2d(1024, 256, kernel_size=(1, 1), stride=(1, 1), bias=False)\n",
              "      (bn1): BatchNorm2d(256, eps=1e-05, momentum=0.1, affine=True, track_running_stats=True)\n",
              "      (conv2): Conv2d(256, 256, kernel_size=(3, 3), stride=(1, 1), padding=(1, 1), bias=False)\n",
              "      (bn2): BatchNorm2d(256, eps=1e-05, momentum=0.1, affine=True, track_running_stats=True)\n",
              "      (conv3): Conv2d(256, 1024, kernel_size=(1, 1), stride=(1, 1), bias=False)\n",
              "      (bn3): BatchNorm2d(1024, eps=1e-05, momentum=0.1, affine=True, track_running_stats=True)\n",
              "      (relu): ReLU(inplace=True)\n",
              "    )\n",
              "    (4): Bottleneck(\n",
              "      (conv1): Conv2d(1024, 256, kernel_size=(1, 1), stride=(1, 1), bias=False)\n",
              "      (bn1): BatchNorm2d(256, eps=1e-05, momentum=0.1, affine=True, track_running_stats=True)\n",
              "      (conv2): Conv2d(256, 256, kernel_size=(3, 3), stride=(1, 1), padding=(1, 1), bias=False)\n",
              "      (bn2): BatchNorm2d(256, eps=1e-05, momentum=0.1, affine=True, track_running_stats=True)\n",
              "      (conv3): Conv2d(256, 1024, kernel_size=(1, 1), stride=(1, 1), bias=False)\n",
              "      (bn3): BatchNorm2d(1024, eps=1e-05, momentum=0.1, affine=True, track_running_stats=True)\n",
              "      (relu): ReLU(inplace=True)\n",
              "    )\n",
              "    (5): Bottleneck(\n",
              "      (conv1): Conv2d(1024, 256, kernel_size=(1, 1), stride=(1, 1), bias=False)\n",
              "      (bn1): BatchNorm2d(256, eps=1e-05, momentum=0.1, affine=True, track_running_stats=True)\n",
              "      (conv2): Conv2d(256, 256, kernel_size=(3, 3), stride=(1, 1), padding=(1, 1), bias=False)\n",
              "      (bn2): BatchNorm2d(256, eps=1e-05, momentum=0.1, affine=True, track_running_stats=True)\n",
              "      (conv3): Conv2d(256, 1024, kernel_size=(1, 1), stride=(1, 1), bias=False)\n",
              "      (bn3): BatchNorm2d(1024, eps=1e-05, momentum=0.1, affine=True, track_running_stats=True)\n",
              "      (relu): ReLU(inplace=True)\n",
              "    )\n",
              "  )\n",
              "  (layer4): Sequential(\n",
              "    (0): Bottleneck(\n",
              "      (conv1): Conv2d(1024, 512, kernel_size=(1, 1), stride=(1, 1), bias=False)\n",
              "      (bn1): BatchNorm2d(512, eps=1e-05, momentum=0.1, affine=True, track_running_stats=True)\n",
              "      (conv2): Conv2d(512, 512, kernel_size=(3, 3), stride=(2, 2), padding=(1, 1), bias=False)\n",
              "      (bn2): BatchNorm2d(512, eps=1e-05, momentum=0.1, affine=True, track_running_stats=True)\n",
              "      (conv3): Conv2d(512, 2048, kernel_size=(1, 1), stride=(1, 1), bias=False)\n",
              "      (bn3): BatchNorm2d(2048, eps=1e-05, momentum=0.1, affine=True, track_running_stats=True)\n",
              "      (relu): ReLU(inplace=True)\n",
              "      (downsample): Sequential(\n",
              "        (0): Conv2d(1024, 2048, kernel_size=(1, 1), stride=(2, 2), bias=False)\n",
              "        (1): BatchNorm2d(2048, eps=1e-05, momentum=0.1, affine=True, track_running_stats=True)\n",
              "      )\n",
              "    )\n",
              "    (1): Bottleneck(\n",
              "      (conv1): Conv2d(2048, 512, kernel_size=(1, 1), stride=(1, 1), bias=False)\n",
              "      (bn1): BatchNorm2d(512, eps=1e-05, momentum=0.1, affine=True, track_running_stats=True)\n",
              "      (conv2): Conv2d(512, 512, kernel_size=(3, 3), stride=(1, 1), padding=(1, 1), bias=False)\n",
              "      (bn2): BatchNorm2d(512, eps=1e-05, momentum=0.1, affine=True, track_running_stats=True)\n",
              "      (conv3): Conv2d(512, 2048, kernel_size=(1, 1), stride=(1, 1), bias=False)\n",
              "      (bn3): BatchNorm2d(2048, eps=1e-05, momentum=0.1, affine=True, track_running_stats=True)\n",
              "      (relu): ReLU(inplace=True)\n",
              "    )\n",
              "    (2): Bottleneck(\n",
              "      (conv1): Conv2d(2048, 512, kernel_size=(1, 1), stride=(1, 1), bias=False)\n",
              "      (bn1): BatchNorm2d(512, eps=1e-05, momentum=0.1, affine=True, track_running_stats=True)\n",
              "      (conv2): Conv2d(512, 512, kernel_size=(3, 3), stride=(1, 1), padding=(1, 1), bias=False)\n",
              "      (bn2): BatchNorm2d(512, eps=1e-05, momentum=0.1, affine=True, track_running_stats=True)\n",
              "      (conv3): Conv2d(512, 2048, kernel_size=(1, 1), stride=(1, 1), bias=False)\n",
              "      (bn3): BatchNorm2d(2048, eps=1e-05, momentum=0.1, affine=True, track_running_stats=True)\n",
              "      (relu): ReLU(inplace=True)\n",
              "    )\n",
              "  )\n",
              "  (avgpool): AdaptiveAvgPool2d(output_size=(1, 1))\n",
              "  (fc): Linear(in_features=2048, out_features=133, bias=True)\n",
              ")"
            ]
          },
          "metadata": {
            "tags": []
          },
          "execution_count": 118
        }
      ]
    },
    {
      "cell_type": "code",
      "metadata": {
        "colab": {
          "base_uri": "https://localhost:8080/"
        },
        "id": "zaI2q5_Kwd9y",
        "outputId": "11800e2d-22af-4b73-a1c9-a60d75cde02a"
      },
      "source": [
        "def test_resnet_shape():\n",
        "    net = models.resnet50()\n",
        "    print(net.fc.in_features)\n",
        "    net.fc = nn.Linear(net.fc.in_features, 133)\n",
        "    with torch.no_grad():\n",
        "        images, labels = iter(traindataloader).next()\n",
        "        print('Shape of the input tensor:', images.shape)\n",
        "\n",
        "        y = net(images)\n",
        "        assert y.shape == torch.Size([traindataloader.batch_size, 133]), \"Bad shape of y: y.shape={}\".format(y.shape)\n",
        "\n",
        "    print('Success')\n",
        "\n",
        "test_resnet_shape()"
      ],
      "execution_count": 119,
      "outputs": [
        {
          "output_type": "stream",
          "text": [
            "2048\n",
            "Shape of the input tensor: torch.Size([32, 3, 224, 224])\n",
            "Success\n"
          ],
          "name": "stdout"
        }
      ]
    },
    {
      "cell_type": "markdown",
      "metadata": {
        "id": "FTooh7WRwd9z"
      },
      "source": [
        "__Answer:__ I decided to use resnet50 as transfer learning architecture. The main reason is the high performances that this model has achieved in image classification tasks. Moreover, I have already worked and implemented a Resnet-like architecture in a different academic project. As a result, I was aware of the main concepts behind it. In order to apply the transfer learning, the principal steps have been followed. \n",
        "* Load the pre-trained model trained on a large dataset\n",
        "* Freez all the weights that I do not want to re-train. In our case, all the layers except for the final fully connected layer.\n",
        "* Replace the final fully connected layer in order to output the expected number of classes (133) \n",
        "* Train only the last layer customizing the output for out purposes"
      ]
    },
    {
      "cell_type": "markdown",
      "metadata": {
        "id": "YXQSVldOwd9z"
      },
      "source": [
        "### Specify Loss Function and Optimizer\n"
      ]
    },
    {
      "cell_type": "code",
      "metadata": {
        "id": "buE-pKYHwd9z"
      },
      "source": [
        "criterion_transfer = nn.CrossEntropyLoss()\n",
        "optimizer_transfer = optim.SGD(model_transfer.fc.parameters(), lr=0.001, momentum=0.9)"
      ],
      "execution_count": 120,
      "outputs": []
    },
    {
      "cell_type": "markdown",
      "metadata": {
        "id": "W93Ne3-Hwd9z"
      },
      "source": [
        "### Train and Validate the Model\n"
      ]
    },
    {
      "cell_type": "code",
      "metadata": {
        "colab": {
          "base_uri": "https://localhost:8080/"
        },
        "id": "9AEz6XL2wd90",
        "outputId": "5c11913c-0cd8-4518-9930-84f5a8ee961b"
      },
      "source": [
        "# train the model\n",
        "\n",
        "#model_transfer = train(n_epochs, loaders_transfer, model_transfer, optimizer_transfer, criterion_transfer, use_cuda, 'model_transfer.pt')\n",
        "\n",
        "# load the model that got the best validation accuracy (uncomment the line below)\n",
        "# model_transfer.load_state_dict(torch.load('model_transfer.pt'))\n",
        "\n",
        "if not skip_training:\n",
        "    model_transfer = train(2, loaders_transfer, model_transfer, optimizer_transfer, \n",
        "                          criterion_transfer, device, './model_transfer.pt')\n",
        "    model_transfer.load_state_dict(torch.load('./model_transfer.pt'))\n",
        "else:\n",
        "    model_transfer = models.resnet50()\n",
        "    model_transfer.fc = nn.Linear(model_transfer.fc.in_features, 133)\n",
        "    model_transfer.load_state_dict(torch.load('./model_transfer.pt'))\n",
        "    model_transfer.to(device)"
      ],
      "execution_count": 121,
      "outputs": [
        {
          "output_type": "stream",
          "text": [
            "Epoch: 1 \tTraining Loss: 4.240389 \tValidation Loss: 3.387113\n",
            "Model saved with validation loss error: 3.387113332748413\n",
            "Epoch: 2 \tTraining Loss: 2.930423 \tValidation Loss: 2.339866\n",
            "Model saved with validation loss error: 2.3398659229278564\n"
          ],
          "name": "stdout"
        }
      ]
    },
    {
      "cell_type": "markdown",
      "metadata": {
        "id": "sz-trEA_wd90"
      },
      "source": [
        "Test the Model"
      ]
    },
    {
      "cell_type": "code",
      "metadata": {
        "id": "Aml1AhyQwd90"
      },
      "source": [
        "test(loaders_transfer, model_transfer, criterion_transfer, device)"
      ],
      "execution_count": null,
      "outputs": []
    },
    {
      "cell_type": "markdown",
      "metadata": {
        "id": "EXR5896Cwd90"
      },
      "source": [
        "### Predict Dog Breed with the Model"
      ]
    },
    {
      "cell_type": "code",
      "metadata": {
        "id": "wcGjyTZrwd91"
      },
      "source": [
        "# Preprocess the classes. Example 001.Affenpinscher to Affenpinscher (keeping order)\n",
        "class_names = [item[4:].replace(\"_\", \" \") for item in loaders_transfer['train'].dataset.classes]\n",
        "\n",
        "# Examples of class names\n",
        "print(\"examples of dog breeds \\n {}\".format(class_names[:20]))\n",
        "\n",
        "def predict_breed_transfer(net, class_names, img_path):\n",
        "    # load the image and return the predicted breed\n",
        "    transform = T.Compose([\n",
        "        T.Resize(224), \n",
        "        T.CenterCrop(224),\n",
        "        T.ToTensor(),\n",
        "        T.Normalize([0.485, 0.456, 0.406], [0.229, 0.224, 0.225])\n",
        "    ])\n",
        "    \n",
        "    img = transform(Image.open(img_path)).unsqueeze(0).to(device)\n",
        "\n",
        "    net.eval()\n",
        "    out = net(img)\n",
        "    return class_names[torch.argmax(out)]"
      ],
      "execution_count": null,
      "outputs": []
    },
    {
      "cell_type": "code",
      "metadata": {
        "id": "S1t0DsOswd91"
      },
      "source": [
        ""
      ],
      "execution_count": null,
      "outputs": []
    },
    {
      "cell_type": "markdown",
      "metadata": {
        "id": "i_tNWgRxwd91"
      },
      "source": [
        "---\n",
        "<a id='step5'></a>\n",
        "## Step 5: Application\n",
        "\n",
        "The application will accept a file path to an image and first determines whether the image contains a human, dog, or neither.  Then,\n",
        "- if a __dog__ is detected in the image, return the predicted breed.\n",
        "- if a __human__ is detected in the image, return the resembling dog breed.\n",
        "- if __neither__ is detected in the image, provide output that indicates an error.\n"
      ]
    },
    {
      "cell_type": "code",
      "metadata": {
        "id": "A8uH_Co4wd91"
      },
      "source": [
        "def run_app(dog_model, human_model, breed_classifier, img_path):\n",
        "    ## handle cases for a human face, dog, and neither\n",
        "    \n",
        "    # Plot the image\n",
        "    img = Image.open(img_path)\n",
        "    plt.imshow(img)\n",
        "    plt.show()\n",
        "    # check if dog\n",
        "    if dog_detector(dog_model, img_path):\n",
        "        out = predict_breed_transfer(breed_classifier, class_names, img_path)\n",
        "        print(\"Dog! \\nThe image is a dog, the predicted breed is {}\".format(out))  \n",
        "    # check if human\n",
        "    elif face_detector(human_model, img_path):\n",
        "        out = predict_breed_transfer(breed_classifier, class_names, img_path)\n",
        "        print(\"Human. \\n You look like a {}\".format(out))\n",
        "    # output error\n",
        "    else:\n",
        "        print(\"Error! The image is not a dog niether a human. Try again with a different image\")"
      ],
      "execution_count": null,
      "outputs": []
    },
    {
      "cell_type": "markdown",
      "metadata": {
        "id": "L3QM-Qhowd91"
      },
      "source": [
        "---\n",
        "<a id='step6'></a>\n",
        "## Step 6: Test Your Algorithm\n",
        "\n",
        "In this section, you will take your new algorithm for a spin!  What kind of dog does the algorithm think that _you_ look like?  If you have a dog, does it predict your dog's breed accurately?  If you have a cat, does it mistakenly think that your cat is a dog?\n"
      ]
    },
    {
      "cell_type": "code",
      "metadata": {
        "id": "FbUKdCM4wd92"
      },
      "source": [
        "## TODO: Execute your algorithm from Step 6 on\n",
        "## at least 6 images on your computer.\n",
        "## Feel free to use as many code cells as needed.\n",
        "from random import randrange\n",
        "\n",
        "number_of_figure = 3\n",
        "\n",
        "human_to_predict = [human_files[randrange(len(human_files))] for _ in range(number_of_figure)]\n",
        "\n",
        "dog_test = np.array(glob(\"./dogImages/test/*/*\"))\n",
        "dog_to_predict = [dog_test[randrange(len(dog_test))] for _ in range(number_of_figure+1)]\n",
        "\n",
        "for human, dog in zip(human_to_predict, dog_to_predict):\n",
        "    run_app(VGG16, mtcnn, model_transfer, human)\n",
        "    run_app(VGG16, mtcnn, model_transfer, dog)\n",
        "    \n",
        "# test labrador \n",
        "# labradors = ['images/Labrador_retriever_06457.jpg', 'images/Labrador_retriever_06455.jpg', 'images/Labrador_retriever_06449.jpg']\n",
        "# for l in labradors:\n",
        "#     run_app(VGG16, mtcnn, model_transfer, l)\n",
        "\n",
        "#test extra input\n",
        "# run_app('images/sample_cnn.png')"
      ],
      "execution_count": null,
      "outputs": []
    },
    {
      "cell_type": "code",
      "metadata": {
        "id": "Mg6AYYnp0xaQ"
      },
      "source": [
        ""
      ],
      "execution_count": null,
      "outputs": []
    }
  ]
}